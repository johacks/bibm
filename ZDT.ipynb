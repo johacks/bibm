{
 "cells": [
  {
   "cell_type": "code",
   "execution_count": 1,
   "metadata": {},
   "outputs": [],
   "source": [
    "from ZDT import ZDT1, ZDT2, ZDT3, ZDT4, ZDT5, ZDT6\n",
    "import Metrics\n",
    "from IPython.display import clear_output\n",
    "\n",
    "def run_experiment(**kwargs):\n",
    "    clear_output()\n",
    "    zdt_n = kwargs.pop('zdt_n')\n",
    "    if not zdt_n:\n",
    "        return 'Selecciona parámetros del experimento'\n",
    "    zdt_class = (ZDT1, ZDT2, ZDT3, ZDT4, ZDT5, ZDT6)[zdt_n - 1]\n",
    "    zdt = zdt_class()\n",
    "    frontier = zdt.get_global_pareto_front_points()\n",
    "    metrics = [Metrics.GenerationalDistance(frontier=frontier),\n",
    "               Metrics.Spacing(),\n",
    "               Metrics.Extension(frontier)]\n",
    "    zdt.test(metrics=metrics, **kwargs)"
   ]
  },
  {
   "cell_type": "code",
   "execution_count": 2,
   "metadata": {},
   "outputs": [
    {
     "data": {
      "application/vnd.jupyter.widget-view+json": {
       "model_id": "ea9fa2675e7a487ebc67b085bb4f44eb",
       "version_major": 2,
       "version_minor": 0
      },
      "text/plain": [
       "interactive(children=(Dropdown(description='zdt_n', options=(('Selecciona un valor', 0), ('ZDT1', 1), ('ZDT2',…"
      ]
     },
     "metadata": {},
     "output_type": "display_data"
    },
    {
     "data": {
      "text/plain": [
       "<function __main__.run_experiment(**kwargs)>"
      ]
     },
     "execution_count": 2,
     "metadata": {},
     "output_type": "execute_result"
    }
   ],
   "source": [
    "from ipywidgets import interact, IntSlider, fixed, FloatLogSlider, FloatSlider\n",
    "\n",
    "zdt_n_opt = [(f'ZDT{n}', n) if n else ('Selecciona un valor', 0) for n in range(0, 7)]\n",
    "max_generations_opt = IntSlider(\n",
    "    value=250,\n",
    "    min=1,\n",
    "    max=501,\n",
    "    step=25,\n",
    "    description='Máx gen.',\n",
    ")\n",
    "population_size_opt = IntSlider(\n",
    "    value=250,\n",
    "    min=100,\n",
    "    max=500,\n",
    "    step=50,\n",
    "    description='Pop. Size',\n",
    ")\n",
    "niche_radius_opt = FloatLogSlider(\n",
    "    value=-1,\n",
    "    base=10,\n",
    "    min=-2, # max exponent of base\n",
    "    max=2, # min exponent of base\n",
    "    step=0.1, # exponent step\n",
    "    description='Niche rad.'\n",
    ")\n",
    "candidate_size_opt = IntSlider(\n",
    "    value=4,\n",
    "    min=2,\n",
    "    max=8,\n",
    "    step=1,\n",
    "    description='Candidate sz',\n",
    ")\n",
    "t_dom_p_opt = FloatSlider(\n",
    "    value=0.13,\n",
    "    min=0.01,\n",
    "    max=0.99,\n",
    "    step=0.005,\n",
    "    description='t_dom'\n",
    ")\n",
    "\n",
    "interact(run_experiment,\n",
    "         zdt_n=zdt_n_opt,\n",
    "         max_generation=max_generations_opt,\n",
    "         population_size=population_size_opt,\n",
    "         crossover_rate=fixed(0.65),\n",
    "         mutation_rate=fixed(1/170),\n",
    "         niche_radius=niche_radius_opt,\n",
    "         candidate_size=candidate_size_opt,\n",
    "         t_dom_p=t_dom_p_opt\n",
    "         )"
   ]
  }
 ],
 "metadata": {
  "interpreter": {
   "hash": "025e5577408482d9c6f1cd0275dcc29e5208531396eddec44b8469d2830aaf90"
  },
  "kernelspec": {
   "display_name": "Python 3.8.5 64-bit ('bibm-7bvWh7Iw': pipenv)",
   "name": "python3"
  },
  "language_info": {
   "codemirror_mode": {
    "name": "ipython",
    "version": 3
   },
   "file_extension": ".py",
   "mimetype": "text/x-python",
   "name": "python",
   "nbconvert_exporter": "python",
   "pygments_lexer": "ipython3",
   "version": "3.8.5"
  },
  "orig_nbformat": 4
 },
 "nbformat": 4,
 "nbformat_minor": 2
}
