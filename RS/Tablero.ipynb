{
 "cells": [
  {
   "cell_type": "code",
   "execution_count": 90,
   "metadata": {},
   "outputs": [],
   "source": [
    "from IPython.display import SVG, display\n",
    "\n",
    "# Declaración de MACROS\n",
    "base_board = '<svg x=\"0px\" y=\"0px\" width=\"500px\" viewBox=\"0 0 300 300\" style=\"enable-background:new 0 0 300 300;\" xmlns=\"http://www.w3.org/2000/svg\" xmlns:xlink=\"http://www.w3.org/1999/xlink\"><symbol id=\"queen\" viewBox=\"000 00 500 550\"><path id=\"queen\" d=\"M477.518 181.966a25 25 0 0 1-34.91 23l-62.29 150.26h-248.92l-62.24-150.19a25 25 0 1 1 9.73-7.29l87 71.2 20.92-126.4a25 25 0 1 1 14.7-1.85l54.31 117 54.42-117.3a25 25 0 1 1 14.58 2.08l20.93 126.42 87.26-71.3a25 25 0 1 1 44.51-15.63zm-71.66 241.25h-300v60h300v-60zm-27.75-52h-244.22v36h244.22v-36z\"/></symbol>{}</svg>'\n",
    "queens_example = [-1, -1, -1, -1, -1, -1, -1]"
   ]
  },
  {
   "cell_type": "code",
   "execution_count": 96,
   "metadata": {},
   "outputs": [],
   "source": [
    "def display_board(queens):\n",
    "    N_size = 300 / len(queens)\n",
    "    board = base_board\n",
    "    aux_board = ''\n",
    "    for i in range(len(queens)):\n",
    "        for j in range(len(queens)):\n",
    "            aux_board += '<rect x=\"{}\" y=\"{}\" width=\"{}\" height=\"{}\" fill=\"{}\"/>'.format(i*N_size, j*N_size, N_size, N_size, '#0f0f0f' if (i % 2 == 0 and j % 2 == 1) or (i % 2 == 1 and j % 2 == 0) else '#5c5b5b')\n",
    "            # if queens[i] == j:\n",
    "            #     aux_board += '<use xlink:href=\"#queen\" x=\"{}\" y=\"{}\" width=\"{}\" height=\"{}\" fill=\"white\"/>'.format(i*N_size, j*N_size, N_size, N_size)\n",
    "    \n",
    "    # Different color for collisions\n",
    "    for i in range(len(queens)):\n",
    "        collision = False\n",
    "        if queens[i] >= 0 and queens[i] < len(queens):\n",
    "            for j in range(len(queens)):\n",
    "                if i != j:\n",
    "                    if queens[j] == queens[i]:\n",
    "                        print('in')\n",
    "                        collision = True\n",
    "                        aux_board += '<use xlink:href=\"#queen\" x=\"{}\" y=\"{}\" width=\"{}\" height=\"{}\" fill=\"red\"/>'.format(i*N_size, queens[i]*N_size, N_size, N_size)\n",
    "                        break\n",
    "                    elif abs(queens[j] - queens[i]) == abs(j - i):\n",
    "                        collision = True\n",
    "                        aux_board += '<use xlink:href=\"#queen\" x=\"{}\" y=\"{}\" width=\"{}\" height=\"{}\" fill=\"red\"/>'.format(i*N_size, queens[i]*N_size, N_size, N_size)\n",
    "                        break\n",
    "            if not collision:\n",
    "                aux_board += '<use xlink:href=\"#queen\" x=\"{}\" y=\"{}\" width=\"{}\" height=\"{}\" fill=\"white\"/>'.format(i*N_size, queens[i]*N_size, N_size, N_size)\n",
    "\n",
    "\n",
    "    board = board.format(aux_board)\n",
    "    display(SVG(data=board))"
   ]
  },
  {
   "cell_type": "code",
   "execution_count": 99,
   "metadata": {},
   "outputs": [
    {
     "name": "stdout",
     "output_type": "stream",
     "text": [
      "in\n"
     ]
    },
    {
     "data": {
      "image/svg+xml": "<svg xmlns=\"http://www.w3.org/2000/svg\" xmlns:xlink=\"http://www.w3.org/1999/xlink\" x=\"0px\" y=\"0px\" width=\"500px\" viewBox=\"0 0 300 300\" style=\"enable-background:new 0 0 300 300;\"><symbol id=\"queen\" viewBox=\"000 00 500 550\"><path id=\"queen\" d=\"M477.518 181.966a25 25 0 0 1-34.91 23l-62.29 150.26h-248.92l-62.24-150.19a25 25 0 1 1 9.73-7.29l87 71.2 20.92-126.4a25 25 0 1 1 14.7-1.85l54.31 117 54.42-117.3a25 25 0 1 1 14.58 2.08l20.93 126.42 87.26-71.3a25 25 0 1 1 44.51-15.63zm-71.66 241.25h-300v60h300v-60zm-27.75-52h-244.22v36h244.22v-36z\"/></symbol><rect x=\"0.0\" y=\"0.0\" width=\"75.0\" height=\"75.0\" fill=\"#5c5b5b\"/><rect x=\"0.0\" y=\"75.0\" width=\"75.0\" height=\"75.0\" fill=\"#0f0f0f\"/><rect x=\"0.0\" y=\"150.0\" width=\"75.0\" height=\"75.0\" fill=\"#5c5b5b\"/><rect x=\"0.0\" y=\"225.0\" width=\"75.0\" height=\"75.0\" fill=\"#0f0f0f\"/><rect x=\"75.0\" y=\"0.0\" width=\"75.0\" height=\"75.0\" fill=\"#0f0f0f\"/><rect x=\"75.0\" y=\"75.0\" width=\"75.0\" height=\"75.0\" fill=\"#5c5b5b\"/><rect x=\"75.0\" y=\"150.0\" width=\"75.0\" height=\"75.0\" fill=\"#0f0f0f\"/><rect x=\"75.0\" y=\"225.0\" width=\"75.0\" height=\"75.0\" fill=\"#5c5b5b\"/><rect x=\"150.0\" y=\"0.0\" width=\"75.0\" height=\"75.0\" fill=\"#5c5b5b\"/><rect x=\"150.0\" y=\"75.0\" width=\"75.0\" height=\"75.0\" fill=\"#0f0f0f\"/><rect x=\"150.0\" y=\"150.0\" width=\"75.0\" height=\"75.0\" fill=\"#5c5b5b\"/><rect x=\"150.0\" y=\"225.0\" width=\"75.0\" height=\"75.0\" fill=\"#0f0f0f\"/><rect x=\"225.0\" y=\"0.0\" width=\"75.0\" height=\"75.0\" fill=\"#0f0f0f\"/><rect x=\"225.0\" y=\"75.0\" width=\"75.0\" height=\"75.0\" fill=\"#5c5b5b\"/><rect x=\"225.0\" y=\"150.0\" width=\"75.0\" height=\"75.0\" fill=\"#0f0f0f\"/><rect x=\"225.0\" y=\"225.0\" width=\"75.0\" height=\"75.0\" fill=\"#5c5b5b\"/><use xlink:href=\"#queen\" x=\"0.0\" y=\"150.0\" width=\"75.0\" height=\"75.0\" fill=\"red\"/><use xlink:href=\"#queen\" x=\"75.0\" y=\"75.0\" width=\"75.0\" height=\"75.0\" fill=\"red\"/><use xlink:href=\"#queen\" x=\"150.0\" y=\"225.0\" width=\"75.0\" height=\"75.0\" fill=\"white\"/><use xlink:href=\"#queen\" x=\"225.0\" y=\"75.0\" width=\"75.0\" height=\"75.0\" fill=\"red\"/></svg>",
      "text/plain": [
       "<IPython.core.display.SVG object>"
      ]
     },
     "metadata": {},
     "output_type": "display_data"
    }
   ],
   "source": [
    "display_board([2, 1, 3, 1])"
   ]
  }
 ],
 "metadata": {
  "interpreter": {
   "hash": "f96157a1d98d51f2ded26de6cc181899a81a059abc20f164f6d5d5b8120e77f5"
  },
  "kernelspec": {
   "display_name": "Python 3.8.5 64-bit ('RS-_TmYfHTp': pipenv)",
   "name": "python3"
  },
  "language_info": {
   "codemirror_mode": {
    "name": "ipython",
    "version": 3
   },
   "file_extension": ".py",
   "mimetype": "text/x-python",
   "name": "python",
   "nbconvert_exporter": "python",
   "pygments_lexer": "ipython3",
   "version": "3.8.5"
  },
  "orig_nbformat": 4
 },
 "nbformat": 4,
 "nbformat_minor": 2
}
