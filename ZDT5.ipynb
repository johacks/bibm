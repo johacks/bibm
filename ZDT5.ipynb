{
 "cells": [
  {
   "cell_type": "code",
   "execution_count": null,
   "metadata": {},
   "outputs": [],
   "source": [
    "import ZDT\n",
    "zdt5 = ZDT.ZDT5()\n",
    "zdt5.test()"
   ]
  }
 ],
 "metadata": {
  "interpreter": {
   "hash": "bf74812a3657bb4a35fefcdfe75067287aa1c120611342ac0c4a1e011339818d"
  },
  "kernelspec": {
   "display_name": "Python 3.9.7 64-bit ('bibm-practicas-n3rQ_c6O': pipenv)",
   "name": "python3"
  },
  "language_info": {
   "codemirror_mode": {
    "name": "ipython",
    "version": 3
   },
   "file_extension": ".py",
   "mimetype": "text/x-python",
   "name": "python",
   "nbconvert_exporter": "python",
   "pygments_lexer": "ipython3",
   "version": "3.9.7"
  },
  "orig_nbformat": 4
 },
 "nbformat": 4,
 "nbformat_minor": 2
}
